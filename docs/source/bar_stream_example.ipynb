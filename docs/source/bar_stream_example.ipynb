{
 "cells": [
  {
   "cell_type": "code",
   "execution_count": null,
   "metadata": {},
   "outputs": [],
   "source": [
    "import tstrippy\n",
    "import numpy as np \n",
    "import matplotlib.pyplot as plt\n",
    "import astropy.units as u   \n",
    "import astropy.constants as const\n",
    "import astropy.coordinates as coord\n",
    "plt.rcParams['figure.figsize'] = [10, 5]\n",
    "# make the font bigger\n",
    "plt.rcParams.update({'font.size': 22})\n",
    "# make the font style the same as latex\n",
    "plt.rcParams['mathtext.fontset'] = 'stix'"
   ]
  },
  {
   "cell_type": "code",
   "execution_count": null,
   "metadata": {},
   "outputs": [],
   "source": [
    "def vanilla_single_GC_backward(initialkinematics,integrationparameters,staticgalaxy):\n",
    "    x0,y0,z0,vx0,vy0,vz0=initialkinematics\n",
    "    T,dt,NSTEP=integrationparameters \n",
    "    potentialname,MWparams=staticgalaxy\n",
    "    tstrippy.integrator.setinitialkinematics(x0,y0,z0,vx0,vy0,vz0)\n",
    "    tstrippy.integrator.setintegrationparameters(T,dt,NSTEP)\n",
    "    tstrippy.integrator.setstaticgalaxy(potentialname,MWparams)\n",
    "    tstrippy.integrator.setbackwardorbit()\n",
    "    xt,yt,zt,vxt,vyt,vzt = tstrippy.integrator.leapfrogintime(NSTEP,1)\n",
    "    timestamps=tstrippy.integrator.timestamps.copy()\n",
    "    tstrippy.integrator.deallocate()\n",
    "    xt,yt,zt=xt[0],yt[0],zt[0]\n",
    "    vxt,vyt,vzt=vxt[0],vyt[0],vzt[0]\n",
    "    return timestamps,xt,yt,zt,vxt,vyt,vzt"
   ]
  },
  {
   "cell_type": "code",
   "execution_count": null,
   "metadata": {},
   "outputs": [],
   "source": [
    "def vanilla_leapfrogtofinalpositions(initialkinematics,integrationparameters,staticgalaxy):\n",
    "    x0,y0,z0,vx0,vy0,vz0=initialkinematics\n",
    "    T,dt,NSTEP=integrationparameters \n",
    "    potentialname,MWparams=staticgalaxy\n",
    "    tstrippy.integrator.setinitialkinematics(x0,y0,z0,vx0,vy0,vz0)\n",
    "    tstrippy.integrator.setintegrationparameters(T,dt,NSTEP)\n",
    "    tstrippy.integrator.setstaticgalaxy(potentialname,MWparams)\n",
    "    tstrippy.integrator.setbackwardorbit()\n",
    "    tstrippy.integrator.leapfrogtofinalpositions()\n",
    "    xf= tstrippy.integrator.xf[0].copy()\n",
    "    yf= tstrippy.integrator.yf[0].copy()\n",
    "    zf= tstrippy.integrator.zf[0].copy()\n",
    "    vxf= tstrippy.integrator.vxf[0].copy()\n",
    "    vyf= tstrippy.integrator.vyf[0].copy()\n",
    "    vzf= tstrippy.integrator.vzf[0].copy()\n",
    "    tstrippy.integrator.deallocate()\n",
    "    return xf,yf,zf,vxf,vyf,vzf"
   ]
  },
  {
   "cell_type": "code",
   "execution_count": null,
   "metadata": {},
   "outputs": [],
   "source": [
    "def bar_single_GC_backward(initialkinematics,integrationparameters,staticgalaxy,galacticbar):\n",
    "    x0,y0,z0,vx0,vy0,vz0=initialkinematics\n",
    "    T,dt,NSTEP=integrationparameters \n",
    "    potentialname,MWparams=staticgalaxy\n",
    "    barname,barparams,barpolycoeff = galacticbar \n",
    "\n",
    "    ## REDUCE THE MASS OF THE DISKS to compensate for the bar\n",
    "    G,Mbar,abar,bbar,cbar = barparams\n",
    "    G,Mhalo,ahalo,exphalo,rcuthalo,Mdisk1,adisk1,bdisk1,Mdisk2,adisk2,bdisk2=MWparams\n",
    "    Mdisk1 = Mdisk1 - Mbar/2\n",
    "    Mdisk2 = Mdisk2 - Mbar/2\n",
    "    MWparams_bar = [G,Mhalo,ahalo,exphalo,rcuthalo,Mdisk1,adisk1,bdisk1,Mdisk2,adisk2,bdisk2]\n",
    "\n",
    "    tstrippy.integrator.setintegrationparameters(T,dt,NSTEP)\n",
    "    tstrippy.integrator.setinitialkinematics(x0,y0,z0,vx0,vy0,vz0)\n",
    "    tstrippy.integrator.setstaticgalaxy(potentialname,MWparams_bar)\n",
    "    tstrippy.integrator.initgalacticbar(barname,barparams,barpolycoeff)\n",
    "    tstrippy.integrator.setbackwardorbit()\n",
    "    xt,yt,zt,vxt,vyt,vzt = tstrippy.integrator.leapfrogintime(NSTEP,1)\n",
    "    timestamps=tstrippy.integrator.timestamps.copy()\n",
    "    tstrippy.integrator.deallocate()\n",
    "    xt,yt,zt=xt[0],yt[0],zt[0]\n",
    "    vxt,vyt,vzt=vxt[0],vyt[0],vzt[0]\n",
    "    return timestamps,xt,yt,zt,vxt,vyt,vzt"
   ]
  },
  {
   "cell_type": "code",
   "execution_count": null,
   "metadata": {},
   "outputs": [],
   "source": [
    "def bar_leapfrogtofinalpositions(initialkinematics,integrationparameters,staticgalaxy,galacticbar):\n",
    "    x0,y0,z0,vx0,vy0,vz0=initialkinematics\n",
    "    T,dt,NSTEP=integrationparameters \n",
    "    potentialname,MWparams=staticgalaxy\n",
    "    barname,barparams,barpolycoeff = galacticbar \n",
    "\n",
    "    ## REDUCE THE MASS OF THE DISKS to compensate for the bar\n",
    "    G,Mbar,abar,bbar,cbar = barparams\n",
    "    G,Mhalo,ahalo,exphalo,rcuthalo,Mdisk1,adisk1,bdisk1,Mdisk2,adisk2,bdisk2=MWparams\n",
    "    Mdisk1 = Mdisk1 - Mbar/2\n",
    "    Mdisk2 = Mdisk2 - Mbar/2\n",
    "    MWparams_bar = [G,Mhalo,ahalo,exphalo,rcuthalo,Mdisk1,adisk1,bdisk1,Mdisk2,adisk2,bdisk2]\n",
    "\n",
    "    tstrippy.integrator.setintegrationparameters(T,dt,NSTEP)\n",
    "    tstrippy.integrator.setinitialkinematics(x0,y0,z0,vx0,vy0,vz0)\n",
    "    tstrippy.integrator.setstaticgalaxy(potentialname,MWparams_bar)\n",
    "    tstrippy.integrator.initgalacticbar(barname,barparams,barpolycoeff)\n",
    "    tstrippy.integrator.setbackwardorbit()\n",
    "    tstrippy.integrator.leapfrogtofinalpositions()\n",
    "    xfbar= tstrippy.integrator.xf[0].copy()\n",
    "    yfbar= tstrippy.integrator.yf[0].copy()\n",
    "    zfbar= tstrippy.integrator.zf[0].copy()\n",
    "    vxfbar= tstrippy.integrator.vxf[0].copy()\n",
    "    vyfbar= tstrippy.integrator.vyf[0].copy()\n",
    "    vzfbar= tstrippy.integrator.vzf[0].copy()\n",
    "    tstrippy.integrator.deallocate()\n",
    "    return xfbar,yfbar,zfbar,vxfbar,vyfbar,vzfbar"
   ]
  },
  {
   "cell_type": "code",
   "execution_count": null,
   "metadata": {},
   "outputs": [],
   "source": [
    "def generate_vanilla_stream(initialkinematics,integrationparameters,staticgalaxy,hostperturber):\n",
    "    x0,y0,z0,vx0,vy0,vz0=initialkinematics\n",
    "    T,dt,NSTEP=integrationparameters \n",
    "    potentialname,MWparams=staticgalaxy\n",
    "    timestamps,xt,yt,zt,vxt,vyt,vzt,massH,radiusH = hostperturber\n",
    "\n",
    "    tstrippy.integrator.setintegrationparameters(T,dt,NSTEP)\n",
    "    tstrippy.integrator.setinitialkinematics(x0,y0,z0,vx0,vy0,vz0)\n",
    "    tstrippy.integrator.setstaticgalaxy(potentialname,MWparams)\n",
    "    tstrippy.integrator.inithostperturber(timestamps,xt,yt,zt,vxt,vyt,vzt,massH,radiusH)\n",
    "    tstrippy.integrator.leapfrogtofinalpositions()\n",
    "    xf= tstrippy.integrator.xf.copy()\n",
    "    yf= tstrippy.integrator.yf.copy()\n",
    "    zf= tstrippy.integrator.zf.copy()\n",
    "    vxf= tstrippy.integrator.vxf.copy()\n",
    "    vyf= tstrippy.integrator.vyf.copy()\n",
    "    vzf= tstrippy.integrator.vzf.copy()\n",
    "    finaltime=tstrippy.integrator.currenttime\n",
    "    tstrippy.integrator.deallocate()\n",
    "    print(finaltime)\n",
    "    return xf,yf,zf,vxf,vyf,vzf"
   ]
  },
  {
   "cell_type": "code",
   "execution_count": null,
   "metadata": {},
   "outputs": [],
   "source": [
    "def generate_bar_stream(initialkinematics,integrationparameters,staticgalaxy,galacticbar,hostperturber):\n",
    "    x0,y0,z0,vx0,vy0,vz0=initialkinematics\n",
    "    T,dt,NSTEP=integrationparameters \n",
    "    potentialname,MWparams=staticgalaxy \n",
    "    timestamps,xt,yt,zt,vxt,vyt,vzt,massH,radiusH = hostperturber\n",
    "    barname,barparams,barpolycoeff = galacticbar\n",
    "\n",
    "    ## REDUCE THE MASS OF THE DISKS to compensate for the bar\n",
    "    G,Mbar,abar,bbar,cbar = barparams\n",
    "    G,Mhalo,ahalo,exphalo,rcuthalo,Mdisk1,adisk1,bdisk1,Mdisk2,adisk2,bdisk2=MWparams\n",
    "    Mdisk1 = Mdisk1 - Mbar/2\n",
    "    Mdisk2 = Mdisk2 - Mbar/2\n",
    "    MWparams_bar = [G,Mhalo,ahalo,exphalo,rcuthalo,Mdisk1,adisk1,bdisk1,Mdisk2,adisk2,bdisk2]\n",
    "\n",
    "    tstrippy.integrator.setintegrationparameters(T,dt,NSTEP)\n",
    "    tstrippy.integrator.setinitialkinematics(x0,y0,z0,vx0,vy0,vz0)\n",
    "    tstrippy.integrator.setstaticgalaxy(potentialname,MWparams_bar)\n",
    "    tstrippy.integrator.inithostperturber(timestamps,xt,yt,zt,vxt,vyt,vzt,massH,radiusH)\n",
    "    tstrippy.integrator.initgalacticbar(barname,barparams,barpolycoeff)\n",
    "    \n",
    "    tstrippy.integrator.leapfrogtofinalpositions()\n",
    "    \n",
    "    xf= tstrippy.integrator.xf.copy()\n",
    "    yf= tstrippy.integrator.yf.copy()\n",
    "    zf= tstrippy.integrator.zf.copy()\n",
    "    vxf= tstrippy.integrator.vxf.copy()\n",
    "    vyf= tstrippy.integrator.vyf.copy()\n",
    "    vzf= tstrippy.integrator.vzf.copy()\n",
    "    tstrippy.integrator.deallocate()\n",
    "    return xf,yf,zf,vxf,vyf,vzf"
   ]
  },
  {
   "cell_type": "markdown",
   "metadata": {},
   "source": [
    "pick the cluster and get the units"
   ]
  },
  {
   "cell_type": "code",
   "execution_count": null,
   "metadata": {},
   "outputs": [],
   "source": [
    "GCname = \"NGC5139\"\n",
    "unitT=u.Unit(tstrippy.Parsers.potential_parameters.unitbasis['time'])\n",
    "unitD=u.Unit(tstrippy.Parsers.potential_parameters.unitbasis['distance'])\n",
    "unitM=u.Unit(tstrippy.Parsers.potential_parameters.unitbasis['mass'])\n",
    "unitV=u.Unit(tstrippy.Parsers.potential_parameters.unitbasis['velocity'])\n",
    "print(\"Mass\", unitM)\n",
    "print(\"Distance\", unitD)\n",
    "print(\"Time\", unitT)\n",
    "print(\"Velocity\", unitV)"
   ]
  },
  {
   "cell_type": "markdown",
   "metadata": {},
   "source": [
    "pick the base potential"
   ]
  },
  {
   "cell_type": "code",
   "execution_count": null,
   "metadata": {},
   "outputs": [],
   "source": [
    "potentialname=\"pouliasis2017pii\"\n",
    "MWparams=tstrippy.Parsers.potential_parameters.pouliasis2017pii()"
   ]
  },
  {
   "cell_type": "markdown",
   "metadata": {},
   "source": [
    "set the bar parameters"
   ]
  },
  {
   "cell_type": "code",
   "execution_count": null,
   "metadata": {},
   "outputs": [],
   "source": [
    "barname = \"longmuralibar\"\n",
    "abar = 4 * unitD\n",
    "bbar = 1 * unitD\n",
    "cbar = 0.5 * unitD\n",
    "Mbar = 990.0*2.32*1e7 * unitM\n",
    "barparams = [MWparams[0],Mbar.value,abar.value,bbar.value,cbar.value]"
   ]
  },
  {
   "cell_type": "markdown",
   "metadata": {},
   "source": [
    "set the bar oreitnation and bar pattern speed"
   ]
  },
  {
   "cell_type": "code",
   "execution_count": null,
   "metadata": {},
   "outputs": [],
   "source": [
    "# oreitnation and bar pattern speed\n",
    "theta0=  25 * (np.pi/180) \n",
    "omega =  39  * unitV / unitD\n",
    "omega = -omega.value\n",
    "barpolycoeff=[theta0,omega]"
   ]
  },
  {
   "cell_type": "markdown",
   "metadata": {},
   "source": [
    "pack the galactic bar, which is the name, potential params, and movement parameters"
   ]
  },
  {
   "cell_type": "code",
   "execution_count": null,
   "metadata": {},
   "outputs": [],
   "source": [
    "galacticbar = [barname,barparams,barpolycoeff]"
   ]
  },
  {
   "cell_type": "code",
   "execution_count": null,
   "metadata": {},
   "outputs": [],
   "source": [
    "# initial kinematics \n",
    "GCs=tstrippy.Parsers.baumgardtMWGCs()\n",
    "means,covar=GCs.getGCCovarianceMatrix(GCname)\n",
    "refframe=tstrippy.Parsers.potential_parameters.MWreferenceframe()\n",
    "\n",
    "RA,DEC,Rsun,RV,mualpha,mu_delta,Mass,rh_m=means\n",
    "skycoords = coord.SkyCoord(ra=RA*u.deg, dec=DEC*u.deg, distance=Rsun*u.kpc, pm_ra_cosdec=mualpha*u.mas/u.yr, pm_dec=mu_delta*u.mas/u.yr, radial_velocity=RV*u.km/u.s,)\n",
    "galcen = skycoords.transform_to(refframe)\n",
    "x0,y0,z0=galcen.cartesian.without_differentials().xyz.value\n",
    "vx0,vy0,vz0=galcen.velocity.d_xyz.value\n",
    "# negative velocity because we are going backwards \n",
    "initialkinematics=x0,y0,z0,-vx0,-vy0,-vz0"
   ]
  },
  {
   "cell_type": "markdown",
   "metadata": {},
   "source": [
    "The integration parameters are the current time, the time step, and how many steps to go. They need to be in the proper units"
   ]
  },
  {
   "cell_type": "code",
   "execution_count": null,
   "metadata": {},
   "outputs": [],
   "source": [
    "# integration parameters\n",
    "integrationtime = 2e9*u.yr\n",
    "dt = 1e5*u.yr\n",
    "unitT=u.Unit(tstrippy.Parsers.potential_parameters.unitbasis['time'])\n",
    "NSTEP = int(integrationtime/dt)\n",
    "# converto ingetal units\n",
    "integrationtime=integrationtime.to(unitT).value\n",
    "currenttime = 0 \n",
    "dt=dt.to(unitT).value\n",
    "integrationparams=currenttime,dt,NSTEP"
   ]
  },
  {
   "cell_type": "markdown",
   "metadata": {},
   "source": [
    "the parameters for the time-independent component of the milky way"
   ]
  },
  {
   "cell_type": "code",
   "execution_count": null,
   "metadata": {},
   "outputs": [],
   "source": [
    "potentialname=\"pouliasis2017pii\"\n",
    "MWparams=tstrippy.Parsers.potential_parameters.pouliasis2017pii()\n",
    "staticgalaxy=potentialname,MWparams"
   ]
  },
  {
   "cell_type": "markdown",
   "metadata": {},
   "source": [
    "sample the particles with a plummer sphere to create the stream with"
   ]
  },
  {
   "cell_type": "code",
   "execution_count": null,
   "metadata": {},
   "outputs": [],
   "source": [
    "G = tstrippy.Parsers.potential_parameters.G\n",
    "NP = int(5e2)\n",
    "halfmassradius = 5/1000\n",
    "rchost=tstrippy.ergodic.convertHalfMassRadiusToPlummerRadius(halfmassradius)\n",
    "massHost = 1e5\n",
    "xp,yp,zp,vxp,vyp,vzp=tstrippy.ergodic.isotropicplummer(G,massHost,halfmassradius,NP)"
   ]
  },
  {
   "cell_type": "markdown",
   "metadata": {},
   "source": [
    "## integrate backward in time\n",
    "Do this for the case with and without the bar \n",
    "\n",
    "You also must flip the orbits and change the sign of the velocity. This is important for when the position of the globular cluster is passed to the step when integrating the stream"
   ]
  },
  {
   "cell_type": "code",
   "execution_count": null,
   "metadata": {},
   "outputs": [],
   "source": [
    "# static galaxy\n",
    "potentialname   =   \"pouliasis2017pii\"\n",
    "MWparams        =   tstrippy.Parsers.potential_parameters.pouliasis2017pii()\n",
    "staticgalaxy=potentialname,MWparams\n",
    "timestamps,xt,yt,zt,vxt,vyt,vzt=vanilla_single_GC_backward(initialkinematics,integrationparams,staticgalaxy)\n",
    "tbar,xbar,ybar,zbar,vxbar,vybar,vzbar=bar_single_GC_backward(initialkinematics,integrationparams,staticgalaxy,galacticbar)\n",
    "\n",
    "### FLIP THE ORBITS FOR THE STREAM GENERATION STEP\n",
    "# flip host orbit \n",
    "timestamps=np.flip(timestamps)\n",
    "xt,yt,zt=np.flip(xt),np.flip(yt),np.flip(zt)\n",
    "vxt,vyt,vzt=-np.flip(vxt),-np.flip(vyt),-np.flip(vzt)\n",
    "# same for bar\n",
    "tbar=np.flip(tbar)\n",
    "xbar,ybar,zbar=np.flip(xbar),np.flip(ybar),np.flip(zbar)\n",
    "vxbar,vybar,vzbar=-np.flip(vxbar),-np.flip(vybar),-np.flip(vzbar)\n",
    "hostperturber = [timestamps,xt,yt,zt,vxt,vyt,vzt,massHost,rchost]\n",
    "hostpertuberbar=[tbar,xbar,ybar,zbar,vxbar,vybar,vzbar,massHost,rchost]"
   ]
  },
  {
   "cell_type": "markdown",
   "metadata": {},
   "source": [
    "get the final positions for placing the particle cluster system"
   ]
  },
  {
   "cell_type": "code",
   "execution_count": null,
   "metadata": {},
   "outputs": [],
   "source": [
    "# this is redunant, could just say xf=xt[0]. But good check to show leapfrogintime is the same as leapgfrogtofinalpositions\n",
    "xf,yf,zf,vxf,vyf,vzf=vanilla_leapfrogtofinalpositions(initialkinematics,integrationparams,staticgalaxy)\n",
    "xfbar,yfbar,zfbar,vxfbar,vyfbar,vzfbar=bar_leapfrogtofinalpositions(initialkinematics,integrationparams,staticgalaxy,galacticbar)\n",
    "# flip the signs of the velocity\n",
    "vxf,vyf,vzf=-vxf,-vyf,-vzf\n",
    "vxfbar,vyfbar,vzfbar=-vxfbar,-vyfbar,-vzfbar\n",
    "# place the vanilla plummer system\n",
    "xp0,yp0,zp0=xp.copy() + xf,yp.copy() + yf,zp.copy() + zf\n",
    "vxp0,vyp0,vzp0=vxp.copy() + vxf,vyp.copy() + vyf,vzp.copy() + vzf\n",
    "# place the bar plummer system\n",
    "xp0bar,yp0bar,zp0bar=xp.copy() + xfbar, yp.copy() + yfbar, zp.copy() + zfbar\n",
    "vxp0bar,vyp0bar,vzp0bar=vxp.copy() + vxfbar, vyp.copy() + vyfbar, vzp.copy() + vzfbar\n",
    "# set the initial kinematics\n",
    "initialkinematics_stream=[xp0,yp0,zp0,vxp0,vyp0,vzp0]\n",
    "initialkinematicsbar_stream=[xp0bar,yp0bar,zp0bar,vxp0bar,vyp0bar,vzp0bar]"
   ]
  },
  {
   "cell_type": "code",
   "execution_count": null,
   "metadata": {},
   "outputs": [],
   "source": [
    "# set the new initial time for the stream integration step \n",
    "t0=timestamps[0]\n",
    "t0bar=tbar[0]\n",
    "integrationparams=t0,dt,NSTEP\n",
    "integrationparamsbar=t0bar,dt,NSTEP"
   ]
  },
  {
   "cell_type": "markdown",
   "metadata": {},
   "source": [
    "### Perform stream integration"
   ]
  },
  {
   "cell_type": "code",
   "execution_count": null,
   "metadata": {},
   "outputs": [],
   "source": [
    "import datetime\n",
    "starttime=datetime.datetime.now()\n",
    "xpfbar,ypfbar,zpfbar,vxpfbar,vypfbar,vzpfbar = generate_bar_stream(initialkinematicsbar_stream,integrationparamsbar,staticgalaxy,galacticbar,hostpertuberbar)\n",
    "print(\"bar stream done\")\n",
    "print(datetime.datetime.now()-starttime)\n",
    "xpf,ypf,zpf,vxpf,vypf,vzpf = generate_vanilla_stream(initialkinematics_stream,integrationparams,staticgalaxy,hostperturber)\n",
    "print(\"vanilla stream done\")    \n",
    "print(datetime.datetime.now()-starttime)"
   ]
  },
  {
   "cell_type": "code",
   "execution_count": null,
   "metadata": {},
   "outputs": [],
   "source": [
    "AXIS={\"xlabel\":\"X [kpc]\",\"ylabel\":\"Y [kpc]\"}\n",
    "fig,axis=plt.subplots(1,1,figsize=(10,8))\n",
    "axis.scatter(x0,y0,label=\"Initial \",color=\"blue\",s=100,zorder=10)\n",
    "axis.plot(xt,yt,label=\"Vanilla\")\n",
    "axis.scatter(xf,yf,label=\"Vanilla Final\",color=\"k\",s=100,zorder=10)\n",
    "axis.scatter(xfbar,yfbar,label=\"Barred Final\",color=\"green\",s=100,zorder=10)\n",
    "axis.plot(xbar,ybar,label=\"Barred\")\n",
    "axis.scatter(xp0bar,yp0bar,label=\"Initial Barred\",color=\"orange\",s=1,zorder=10)\n",
    "axis.scatter(xp0,yp0,label=\"Initial Vanilla\",color=\"blue\",s=1,zorder=10)\n",
    "axis.scatter(xpf,ypf,s=1,color=\"k\",zorder=12,label=\"Stream\")\n",
    "axis.scatter(xpfbar,ypfbar,s=1,color=\"g\",zorder=12,label=\"Stream w/ Bar\")\n",
    "axis.set(**AXIS)\n",
    "axis.legend(loc='upper right', bbox_to_anchor=(1.5, 1),)"
   ]
  }
 ],
 "metadata": {
  "kernelspec": {
   "display_name": "tstrippy",
   "language": "python",
   "name": "python3"
  },
  "language_info": {
   "codemirror_mode": {
    "name": "ipython",
    "version": 3
   },
   "file_extension": ".py",
   "mimetype": "text/x-python",
   "name": "python",
   "nbconvert_exporter": "python",
   "pygments_lexer": "ipython3",
   "version": "3.9.20"
  }
 },
 "nbformat": 4,
 "nbformat_minor": 2
}
