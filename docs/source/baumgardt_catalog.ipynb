{
 "cells": [
  {
   "cell_type": "markdown",
   "metadata": {},
   "source": [
    "# Load the globular cluster catalog"
   ]
  },
  {
   "cell_type": "code",
   "execution_count": 1,
   "metadata": {},
   "outputs": [],
   "source": [
    "import tstrippy\n",
    "import numpy as np"
   ]
  },
  {
   "cell_type": "markdown",
   "metadata": {},
   "source": [
    "These data were taken from [Bumgardt's website](https://people.smp.uq.edu.au/HolgerBaumgardt/globular/). I extracted these data and reformated them into a fits file. This file is stored in `tstrippy/data/2023-03-28-merged.fits`. The file name is the date when I extracted the data from the website and it is *merged* because I took the columns I needed from the kinematic parameters and the structural parameters. "
   ]
  },
  {
   "cell_type": "code",
   "execution_count": 2,
   "metadata": {},
   "outputs": [],
   "source": [
    "GCdata=tstrippy.Parsers.baumgardtMWGCs().data"
   ]
  },
  {
   "cell_type": "markdown",
   "metadata": {},
   "source": [
    "The data columns are the:\n",
    "\n",
    "- **RA**: Right Ascension\n",
    "- **DEC**: Declination\n",
    "- **Rsun**: distance to the sun\n",
    "- **RV**: Line-of-Sight velocity (radial velocity)\n",
    "- **mualpha**: $\\mu_{\\alpha *}$=$\\mu_{\\alpha}\\cos(\\delta)$ the proper motion in right ascension\n",
    "- **mu_delta**: $\\mu_{\\delta}$ the proper motion in declination\n",
    "- **rhopmrade**: $\\rho_{\\alpha,\\delta}$, the correlation coefficient between the proper motions of the right ascension and declination\n",
    "- **Mass**: $M_\\odot$ the mass of the globular cluster in solar masses\n",
    "- **rh_m**: the half mass radius of the globular cluster\n",
    "\n",
    "and each of which have their associated uncertainties."
   ]
  },
  {
   "cell_type": "code",
   "execution_count": null,
   "metadata": {},
   "outputs": [],
   "source": [
    "for key in GCdata.keys():\n",
    "    print(key)"
   ]
  },
  {
   "cell_type": "markdown",
   "metadata": {},
   "source": [
    "## Sampling the uncertainties\n",
    "You can pick a globular cluster and sample its covariance matrix. Note that there are no uncertainties reported the RA and DEC, since their uncertainties are orders of magnitude lower than the other quantities. Additionally, no uncertainty was reported for the half mass radius. "
   ]
  },
  {
   "cell_type": "code",
   "execution_count": 4,
   "metadata": {},
   "outputs": [],
   "source": [
    "targetGC = \"NGC5139\"\n",
    "Nsamples = 100\n",
    "GCobj=tstrippy.Parsers.baumgardtMWGCs()\n",
    "mean,cov=GCobj.getGCCovarianceMatrix(targetGC)\n",
    "samples = np.random.multivariate_normal(mean, cov, Nsamples)\n",
    "RA_all,DEC_all,Rsun_all,RV_all,mualpha_all,mu_delta_all,Mass_all,rh_m_all=samples.T"
   ]
  },
  {
   "cell_type": "markdown",
   "metadata": {},
   "source": [
    "Here, I'll make the plot nicer"
   ]
  },
  {
   "cell_type": "code",
   "execution_count": 5,
   "metadata": {},
   "outputs": [],
   "source": [
    "from matplotlib.patches import Ellipse\n",
    "import matplotlib.pyplot as plt\n",
    "plt.rcParams.update({\n",
    "    \"text.usetex\": True,\n",
    "    \"font.family\": \"serif\",\n",
    "    \"font.serif\": [\"Computer Modern Roman\"],\n",
    "})\n",
    "# Function to plot an ellipse\n",
    "def plot_cov_ellipse(mean, cov, ax, nstd=2, **kwargs):\n",
    "    \"\"\"\n",
    "    Plots an `nstd` sigma error ellipse based on the specified covariance matrix (`cov`)\n",
    "    and mean (`mean`).\n",
    "    \"\"\"\n",
    "    pearson = cov[0, 1] / np.sqrt(cov[0, 0] * cov[1, 1])\n",
    "    ell_radius_x = np.sqrt(1 + pearson)\n",
    "    ell_radius_y = np.sqrt(1 - pearson)\n",
    "    ellipse = Ellipse((0, 0), width=ell_radius_x * 2, height=ell_radius_y * 2, **kwargs)\n",
    "\n",
    "    scale_x = np.sqrt(cov[0, 0]) * nstd\n",
    "    scale_y = np.sqrt(cov[1, 1]) * nstd\n",
    "    transf = (plt.matplotlib.transforms.Affine2D()\n",
    "              .rotate_deg(45)\n",
    "              .scale(scale_x, scale_y)\n",
    "              .translate(mean[0], mean[1]))\n",
    "\n",
    "    ellipse.set_transform(transf + ax.transData)\n",
    "    return ax.add_patch(ellipse)"
   ]
  },
  {
   "cell_type": "code",
   "execution_count": null,
   "metadata": {},
   "outputs": [],
   "source": [
    "# Define the arrays\n",
    "data = np.vstack([RA_all, DEC_all, Rsun_all, RV_all, mualpha_all, mu_delta_all, Mass_all, rh_m_all]).T\n",
    "labels = [r'$\\alpha$ $(\\deg)$', '$\\delta$ $(\\deg)$', r'$R_{\\textrm{sun}}$', r'$v_{\\textrm{LOS}}$', r'$\\mu_{\\alpha}\\cos(\\delta)$ (mas yr$^{-1}$)', r'$\\mu_{\\delta}$ (mas yr$^{-1}$)', r'Mass $(M_{\\odot})$', r'$r_{\\textrm{half mass}}$ (kpc)']\n",
    "\n",
    "# Create the corner plot\n",
    "fig, axes = plt.subplots(len(labels), len(labels), figsize=(15, 15))\n",
    "\n",
    "for i in range(len(labels)):\n",
    "    for j in range(i+1):\n",
    "        if i == j:\n",
    "            axes[i, j].hist(data[:, i], bins=30, color='gray')\n",
    "        else:\n",
    "            axes[i, j].scatter(data[:, j], data[:, i], s=1)\n",
    "            if i > j:\n",
    "                plot_cov_ellipse(mean[[j, i]], cov[[j, i]][:, [j, i]], axes[i, j],alpha=0.5)\n",
    "        if i < len(labels) - 1:\n",
    "            axes[i, j].set_xticks([])\n",
    "        else:\n",
    "            axes[i, j].set_xlabel(labels[j])\n",
    "        if j > 0:\n",
    "            axes[i, j].set_yticks([])\n",
    "        else:\n",
    "            axes[i, j].set_ylabel(labels[i])\n",
    "\n",
    "    for j in range(i+1, len(labels)):\n",
    "        axes[i, j].axis('off')\n",
    "        \n",
    "fig.tight_layout()\n",
    "plt.show()"
   ]
  }
 ],
 "metadata": {
  "kernelspec": {
   "display_name": "base",
   "language": "python",
   "name": "python3"
  },
  "language_info": {
   "codemirror_mode": {
    "name": "ipython",
    "version": 3
   },
   "file_extension": ".py",
   "mimetype": "text/x-python",
   "name": "python",
   "nbconvert_exporter": "python",
   "pygments_lexer": "ipython3",
   "version": "3.11.9"
  }
 },
 "nbformat": 4,
 "nbformat_minor": 2
}
