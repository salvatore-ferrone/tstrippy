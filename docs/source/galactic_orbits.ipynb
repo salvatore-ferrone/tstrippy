{
 "cells": [
  {
   "cell_type": "markdown",
   "metadata": {},
   "source": [
    "# Integrating Galactic Orbits\n",
    "\n",
    "In this example, I will show how to use `tstrippy` to integrate an orbits of the globular clusters in the galaxy"
   ]
  },
  {
   "cell_type": "code",
   "execution_count": 1,
   "metadata": {},
   "outputs": [],
   "source": [
    "import tstrippy\n",
    "import astropy.units as u\n",
    "import astropy.constants as const\n",
    "import astropy.coordinates as coord\n",
    "import numpy as np\n",
    "import matplotlib.pyplot as plt"
   ]
  },
  {
   "cell_type": "markdown",
   "metadata": {},
   "source": [
    "## Load the units"
   ]
  },
  {
   "cell_type": "code",
   "execution_count": 2,
   "metadata": {},
   "outputs": [],
   "source": [
    "unitbasis = tstrippy.Parsers.potential_parameters.unitbasis\n",
    "unitT=u.Unit(unitbasis['time'])\n",
    "unitV=u.Unit(unitbasis['velocity'])\n",
    "unitD=u.Unit(unitbasis['distance'])\n",
    "unitM=u.Unit(unitbasis['mass'])\n",
    "unitG=u.Unit(unitbasis['G'])\n",
    "G = const.G.to(unitG).value"
   ]
  },
  {
   "cell_type": "markdown",
   "metadata": {},
   "source": [
    "## Load Galactic Parameters"
   ]
  },
  {
   "cell_type": "code",
   "execution_count": 3,
   "metadata": {},
   "outputs": [],
   "source": [
    "MWparams = tstrippy.Parsers.potential_parameters.pouliasis2017pii()\n",
    "MWrefframe= tstrippy.Parsers.potential_parameters.MWreferenceframe()"
   ]
  },
  {
   "cell_type": "markdown",
   "metadata": {},
   "source": [
    "The potential parameters correspond to those of Pouliasis et al 2017. They correspond to the gravitational constant, the Allen and Santillian Halo, a thin disk and a thick disk"
   ]
  },
  {
   "cell_type": "code",
   "execution_count": null,
   "metadata": {},
   "outputs": [],
   "source": [
    "params = [\"G\", \"Halo Mass\", \"Halo scale length\", \"halo exponential parameter\", \"cut off radius\", \"Disk mass\", \"Disk length\", \"Disk height\",\"Disk mass\", \"Disk length\", \"Disk height\"]\n",
    "for p,name in zip(MWparams,params):\n",
    "    print(\"{:.3e} {:s}\".format(p,name))"
   ]
  },
  {
   "cell_type": "markdown",
   "metadata": {},
   "source": [
    "The reference frame is an astropy object that is used to convert from skycoordinates to galacocentric coordinates"
   ]
  },
  {
   "cell_type": "code",
   "execution_count": null,
   "metadata": {},
   "outputs": [],
   "source": [
    "print(\"Solar Galactocentric distance\", MWrefframe.galcen_distance)\n",
    "print(\"Solar velocity\", MWrefframe.galcen_v_sun)"
   ]
  },
  {
   "cell_type": "markdown",
   "metadata": {},
   "source": [
    "## Load the Globular Clusters\n",
    "Store them in an astropy object to store them to galactocentric coordinates"
   ]
  },
  {
   "cell_type": "code",
   "execution_count": 6,
   "metadata": {},
   "outputs": [],
   "source": [
    "GCdata  =   tstrippy.Parsers.baumgardtMWGCs().data\n",
    "skycoordinates=coord.SkyCoord(\n",
    "    ra=GCdata['RA'],\n",
    "    dec=GCdata['DEC'],\n",
    "    distance=GCdata['Rsun'],\n",
    "    pm_ra_cosdec=GCdata['mualpha'],\n",
    "    pm_dec=GCdata['mu_delta'],\n",
    "    radial_velocity=GCdata['RV'],)\n",
    "galacticcoordinates = skycoordinates.transform_to(MWrefframe)\n",
    "x,y,z=galacticcoordinates.cartesian.xyz.to(unitD).value\n",
    "vx,vy,vz=galacticcoordinates.velocity.d_xyz.to(unitV).value\n",
    "# grab the number of objects\n",
    "Nobj=len(x)"
   ]
  },
  {
   "cell_type": "markdown",
   "metadata": {},
   "source": [
    "## Set integration time\n",
    "\n",
    "Do this in years so that you can assure the number of timesteps is an integer, and then convert the total time *T* and the timestep *dt* into integration units."
   ]
  },
  {
   "cell_type": "code",
   "execution_count": 7,
   "metadata": {},
   "outputs": [],
   "source": [
    "T,dt = 1e9,1e6\n",
    "Ntimestep=int(T/dt)\n",
    "T,dt=T*u.yr,dt*u.yr\n",
    "T,dt=T.to(unitT),dt.to(unitT)\n",
    "t=np.arange(0,T.value,dt.value) # an array of time for later use"
   ]
  },
  {
   "cell_type": "markdown",
   "metadata": {},
   "source": [
    "## Initialize the integrator"
   ]
  },
  {
   "cell_type": "code",
   "execution_count": 8,
   "metadata": {},
   "outputs": [],
   "source": [
    "tstrippy.integrator.setstaticgalaxy(\"pouliasis2017pii\",MWparams)\n",
    "tstrippy.integrator.setinitialkinematics(x,y,z,vx,vy,vz)\n",
    "tstrippy.integrator.setintegrationparameters(T.value,dt.value,Ntimestep)\n",
    "xt,yt,zt,vxt,vyt,vzt=tstrippy.integrator.leapfrogintime(Ntimestep,Nobj)\n",
    "tstrippy.integrator.deallocate()"
   ]
  },
  {
   "cell_type": "markdown",
   "metadata": {},
   "source": [
    "## Plot the results"
   ]
  },
  {
   "cell_type": "code",
   "execution_count": 11,
   "metadata": {},
   "outputs": [],
   "source": [
    "# give each object a color \n",
    "import matplotlib.cm as cm\n",
    "plt.rcParams.update({\n",
    "    \"text.usetex\": True,\n",
    "    \"font.family\": \"serif\",\n",
    "    \"font.serif\": [\"Computer Modern Roman\"],\n",
    "})\n",
    "colors = cm.rainbow(np.linspace(0, 1, Nobj))\n",
    "AXIS = {\"xlabel\":\"X [kpc]\",\"ylabel\":\"Y [kpc]\",\"zlabel\":\"Z [kpc]\",\"aspect\":\"equal\",}"
   ]
  },
  {
   "cell_type": "code",
   "execution_count": null,
   "metadata": {},
   "outputs": [],
   "source": [
    "fig=plt.figure(figsize=(6,6))\n",
    "axis=fig.add_subplot(111,projection='3d')\n",
    "for i in range(Nobj):\n",
    "    axis.plot(xt[i],yt[i],zt[i],color=colors[i],alpha=0.9)\n",
    "axis.set(**AXIS)\n",
    "axis.plot([-100,100],[0,0],[0,0],color='black',linestyle='-',alpha=0.5)\n",
    "axis.plot([0,0],[-100,100],[0,0],color='black',linestyle='-',alpha=0.5)\n",
    "axis.plot([0,0],[0,0],[-100,100],color='black',linestyle='-',alpha=0.5)\n",
    "# turn off axis panes\n",
    "fig.tight_layout()"
   ]
  },
  {
   "cell_type": "code",
   "execution_count": null,
   "metadata": {},
   "outputs": [],
   "source": []
  }
 ],
 "metadata": {
  "kernelspec": {
   "display_name": "tstrippy",
   "language": "python",
   "name": "python3"
  },
  "language_info": {
   "codemirror_mode": {
    "name": "ipython",
    "version": 3
   },
   "file_extension": ".py",
   "mimetype": "text/x-python",
   "name": "python",
   "nbconvert_exporter": "python",
   "pygments_lexer": "ipython3",
   "version": "3.11.9"
  }
 },
 "nbformat": 4,
 "nbformat_minor": 2
}
