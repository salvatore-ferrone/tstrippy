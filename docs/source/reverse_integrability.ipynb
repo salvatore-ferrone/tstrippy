{
 "cells": [
  {
   "cell_type": "markdown",
   "metadata": {},
   "source": [
    "# Reverse integrability\n",
    "\n",
    "A good test of the integrator is first integrate our points backward, and then re-integrate them forward. If the integrator works properly, we should return to the current position only limited by precision from the time step size. This notebook shows the different between the positions of the globular clusters when integrated backwards as point masses and then integrated forward. "
   ]
  },
  {
   "cell_type": "code",
   "execution_count": 1,
   "metadata": {},
   "outputs": [],
   "source": [
    "import tstrippy\n",
    "from astropy import units as u\n",
    "from astropy import constants as const\n",
    "from astropy import coordinates as coord\n",
    "import numpy as np\n",
    "import matplotlib.pyplot as plt"
   ]
  },
  {
   "cell_type": "code",
   "execution_count": 2,
   "metadata": {},
   "outputs": [],
   "source": [
    "# give each object a color \n",
    "plt.rcParams.update({\n",
    "    \"text.usetex\": True,\n",
    "    \"font.family\": \"serif\",\n",
    "    \"font.serif\": [\"Computer Modern Roman\"],\n",
    "    \"font.size\": 15,\n",
    "})"
   ]
  },
  {
   "cell_type": "code",
   "execution_count": 3,
   "metadata": {},
   "outputs": [],
   "source": [
    "def plot_relative_stability(tBack,relativeR,relativaV,colors,rlabel,vlabel,title,timestep,\n",
    "                            ylims=[1e-20,1e-9]):\n",
    "    nGC=len(relativeR)\n",
    "    fig,axis=plt.subplots(2,1,figsize=(12,8),sharex=True,gridspec_kw={'hspace':0})\n",
    "    for i in range(nGC):\n",
    "        axis[0].plot(tBack,relativeR[i],color=colors[i],alpha=0.5)\n",
    "        axis[1].plot(tBack,relativaV[i],color=colors[i],alpha=0.5)\n",
    "    for ax in axis:\n",
    "        ax.set_yscale('log')\n",
    "        ax.set_xlim(tBack[0],tBack[-1])\n",
    "        ax.set_ylim(*ylims)\n",
    "    axis[0].set_ylabel(rlabel,fontsize=25,rotation=0,labelpad=20)\n",
    "    axis[1].set_ylabel(vlabel,fontsize=25,rotation=0,labelpad=20)\n",
    "    axis[1].set_xlabel('Integration time [s kpc/ km]')\n",
    "    y0ticks=axis[0].get_yticks()\n",
    "    y1ticks=axis[1].get_yticks()\n",
    "    axis[0].set_yticks(y0ticks[2:-1]);\n",
    "    axis[1].set_yticks(y1ticks[1:-2]);\n",
    "    axis[0].set_title(title)\n",
    "    axis[0].text(0.95,0.95,'Difference between integrating backward and reintegrating forward',transform=axis[0].transAxes,ha='right',va='top')\n",
    "    axis[0].text(0.95,0.15,\"Integration time step: {:.1e}\".format(timestep),transform=axis[0].transAxes,ha='right',va='top')\n",
    "    return fig,axis"
   ]
  },
  {
   "cell_type": "code",
   "execution_count": 4,
   "metadata": {},
   "outputs": [],
   "source": [
    "def get_dr_dv_rmean_vmean(backwardOrbit,forwardOrbit):\n",
    "    \"\"\"\n",
    "    Calculate the difference in position and velocity between the backward and forward integration\n",
    "    \"\"\"\n",
    "\n",
    "    dx=backwardOrbit[1]-forwardOrbit[1]\n",
    "    dy=backwardOrbit[2]-forwardOrbit[2]\n",
    "    dz=backwardOrbit[3]-forwardOrbit[3]\n",
    "    dr=np.sqrt(dx**2+dy**2+dz**2)\n",
    "    dvx=backwardOrbit[4]-forwardOrbit[4]\n",
    "    dvy=backwardOrbit[5]-forwardOrbit[5]\n",
    "    dvz=backwardOrbit[6]-forwardOrbit[6]\n",
    "    dv=np.sqrt(dvx**2+dvy**2+dvz**2)\n",
    "    xmean=(backwardOrbit[1]+forwardOrbit[1])/2\n",
    "    ymean=(backwardOrbit[2]+forwardOrbit[2])/2\n",
    "    zmean=(backwardOrbit[3]+forwardOrbit[3])/2\n",
    "    vxmean=(backwardOrbit[4]+forwardOrbit[4])/2\n",
    "    vymean=(backwardOrbit[5]+forwardOrbit[5])/2\n",
    "    vzmean=(backwardOrbit[6]+forwardOrbit[6])/2\n",
    "    rmean=np.sqrt(xmean**2+ymean**2+zmean**2)\n",
    "    vmean=np.sqrt(vxmean**2+vymean**2+vzmean**2)\n",
    "    return dr,dv,rmean,vmean\n",
    "\n",
    "def dynamical_time_sorter(x,y,z,vx,vy,vz):\n",
    "    \"\"\"\n",
    "        For making the plots prettier, sort the clusters by dynamical time.\n",
    "    \"\"\"\n",
    "    # get an estimate of all dynamical times of the cluster\n",
    "    r0=np.sqrt(x**2+y**2+z**2)\n",
    "    v0=np.sqrt(vx**2+vy**2+vz**2)\n",
    "    Tdyn=r0/v0\n",
    "    # sort the clusters by dynamical time\n",
    "    idx=np.argsort(Tdyn)\n",
    "    return idx"
   ]
  },
  {
   "cell_type": "code",
   "execution_count": 5,
   "metadata": {},
   "outputs": [],
   "source": [
    "def loadunits():\n",
    "    # Load the units\n",
    "    unitbasis = tstrippy.Parsers.potential_parameters.unitbasis\n",
    "    unitT=u.Unit(unitbasis['time'])\n",
    "    unitV=u.Unit(unitbasis['velocity'])\n",
    "    unitD=u.Unit(unitbasis['distance'])\n",
    "    unitM=u.Unit(unitbasis['mass'])\n",
    "    unitG=u.Unit(unitbasis['G'])\n",
    "    G = const.G.to(unitG).value\n",
    "    return unitT, unitV, unitD, unitM, unitG, G"
   ]
  },
  {
   "cell_type": "code",
   "execution_count": 6,
   "metadata": {},
   "outputs": [],
   "source": [
    "def load_globular_clusters_in_galactic_coordinates(MWrefframe):\n",
    "    \"\"\"Extract all initial conditions of the globular clusters and transform them the MW frame\"\"\"\n",
    "    unitT, unitV, unitD, unitM, unitG, G = loadunits()\n",
    "    GCdata  =   tstrippy.Parsers.baumgardtMWGCs().data\n",
    "    skycoordinates=coord.SkyCoord(\n",
    "        ra=GCdata['RA'],\n",
    "        dec=GCdata['DEC'],\n",
    "        distance=GCdata['Rsun'],\n",
    "        pm_ra_cosdec=GCdata['mualpha'],\n",
    "        pm_dec=GCdata['mu_delta'],\n",
    "        radial_velocity=GCdata['RV'],)\n",
    "    galacticcoordinates = skycoordinates.transform_to(MWrefframe)\n",
    "    x,y,z=galacticcoordinates.cartesian.xyz.to(unitD).value\n",
    "    vx,vy,vz=galacticcoordinates.velocity.d_xyz.to(unitV).value\n",
    "    return x,y,z,vx,vy,vz"
   ]
  },
  {
   "cell_type": "code",
   "execution_count": 7,
   "metadata": {},
   "outputs": [],
   "source": [
    "def vanilla_clusters(integrationtime,timestep,staticgalaxy,initialkinematics):\n",
    "    \"\"\"\n",
    "    do the backward and forward integration of the vanilla clusters\n",
    "    \"\"\"\n",
    "    assert isinstance(integrationtime,u.Quantity)\n",
    "    assert isinstance(timestep,u.Quantity)\n",
    "    unitT, unitV, unitD, unitM, unitG, G = loadunits()\n",
    "    Ntimestep=int(integrationtime.value/timestep.value)\n",
    "    dt=timestep.to(unitT)\n",
    "    currenttime=0*unitT\n",
    "    integrationparameters=[currenttime.value,dt.value,Ntimestep]\n",
    "    nObj = initialkinematics[0].shape[0]\n",
    "\n",
    "    tstrippy.integrator.setstaticgalaxy(*staticgalaxy)\n",
    "    tstrippy.integrator.setinitialkinematics(*initialkinematics)\n",
    "    tstrippy.integrator.setintegrationparameters(*integrationparameters)\n",
    "    tstrippy.integrator.setbackwardorbit()\n",
    "    xBackward,yBackward,zBackward,vxBackward,vyBackward,vzBackward=\\\n",
    "        tstrippy.integrator.leapfrogintime(Ntimestep,nObj)\n",
    "    tBackward=tstrippy.integrator.timestamps.copy()\n",
    "    tstrippy.integrator.deallocate()\n",
    "\n",
    "    #### Now compute the orbit forward\n",
    "    #### IT'S VERY IMPORTANT TO USE tBackward[-1] AS THE CURRENT TIME FOR THE FORWARD INTEGRATION\n",
    "    #### BEFORE I USED -integrationtime, WHICH CAN BE DIFFERENT BY NSTEP * 1e-16\n",
    "    #### I.e. A DRIFT IN TIME DUE TO NUMERICAL ERROR, WHICH CAN BECOME SIGNIFICANT FOR INTEGRATING WITH THE BAR\n",
    "    currenttime=tBackward[-1]*unitT\n",
    "\n",
    "    integrationparameters=[currenttime.value,dt.value,Ntimestep]\n",
    "    x0,y0,z0=xBackward[:,-1],yBackward[:,-1],zBackward[:,-1]\n",
    "    vx0,vy0,vz0 = -vxBackward[:,-1],-vyBackward[:,-1],-vzBackward[:,-1]\n",
    "    initialkinematics=[x0,y0,z0,vx0,vy0,vz0]\n",
    "    tstrippy.integrator.setstaticgalaxy(*staticgalaxy)\n",
    "    tstrippy.integrator.setintegrationparameters(*integrationparameters)\n",
    "    tstrippy.integrator.setinitialkinematics(*initialkinematics)\n",
    "    xForward,yForward,zForward,vxForward,vyForward,vzForward=\\\n",
    "        tstrippy.integrator.leapfrogintime(Ntimestep,nObj)\n",
    "    tForward=tstrippy.integrator.timestamps.copy()\n",
    "    tstrippy.integrator.deallocate()\n",
    "\n",
    "    # flip the backorbits such that the point in the past, \n",
    "    # which should be the common starting point, \n",
    "    # is the first point for both the forward and backward orbits\n",
    "    tBackward=tBackward[::-1]\n",
    "    xBackward,yBackward,zBackward=xBackward[:,::-1],yBackward[:,::-1],zBackward[:,::-1]\n",
    "    vxBackward,vyBackward,vzBackward=-vxBackward[:,::-1],-vyBackward[:,::-1],-vzBackward[:,::-1]\n",
    "    backwardOrbit  = [tBackward,xBackward,yBackward,zBackward,vxBackward,vyBackward,vzBackward]\n",
    "    forwardOrbit   = [tForward,xForward,yForward,zForward,vxForward,vyForward,vzForward]\n",
    "    return backwardOrbit,forwardOrbit"
   ]
  },
  {
   "cell_type": "code",
   "execution_count": 8,
   "metadata": {},
   "outputs": [],
   "source": [
    "MWparams        = tstrippy.Parsers.potential_parameters.pouliasis2017pii()\n",
    "MWrefframe      = tstrippy.Parsers.potential_parameters.MWreferenceframe()  \n",
    "x,y,z,vx,vy,vz  = load_globular_clusters_in_galactic_coordinates(MWrefframe)\n",
    "staticgalaxy    = [\"pouliasis2017pii\", MWparams]\n",
    "initialkinematics=[x,y,z,vx,vy,vz]\n",
    "\n",
    "# get a unique color for each cluster based on the dynamical time\n",
    "cmap = plt.get_cmap('twilight')\n",
    "nGC = len(x)\n",
    "colors = cmap(np.linspace(0, 1, nGC))\n",
    "integrationtime =   5e9 * u.yr\n",
    "timesteps = [1e7*u.yr,1e6*u.yr,1e5*u.yr,1e4*u.yr]"
   ]
  },
  {
   "cell_type": "markdown",
   "metadata": {},
   "source": [
    "integrate with a series of different timesteps to show the stability of the cluster orbits"
   ]
  },
  {
   "cell_type": "code",
   "execution_count": null,
   "metadata": {},
   "outputs": [],
   "source": [
    "rlabel = r\"$\\frac{|\\delta\\vec{r}|}{\\langle r \\rangle}$\"\n",
    "vlabel = r\"$\\frac{|\\delta\\vec{v}|}{\\langle v \\rangle}$\"\n",
    "ylims = [1e-20,1e-4]\n",
    "for timestep in timesteps:\n",
    "    backwardOrbit,forwardOrbit=\\\n",
    "        vanilla_clusters(integrationtime,timestep,staticgalaxy,initialkinematics)\n",
    "    tBack = backwardOrbit[0]\n",
    "    dr,dv,rmean,vmean = get_dr_dv_rmean_vmean(backwardOrbit,forwardOrbit)\n",
    "    idx = dynamical_time_sorter(x,y,z,vx,vy,vz)\n",
    "    dr,dv,rmean,vmean = dr[idx],dv[idx],rmean[idx],vmean[idx]\n",
    "    relativeR = dr/rmean\n",
    "    relativaV = dv/vmean\n",
    "    title = r\"Vanilla integration stability of {:d} globular clusters in {:s} potential\".format(nGC,staticgalaxy[0])\n",
    "    fig,axis=plot_relative_stability(tBack,relativeR,relativaV,colors,rlabel,vlabel,title,timestep,ylims=ylims)"
   ]
  }
 ],
 "metadata": {
  "kernelspec": {
   "display_name": "tstrippy",
   "language": "python",
   "name": "python3"
  },
  "language_info": {
   "codemirror_mode": {
    "name": "ipython",
    "version": 3
   },
   "file_extension": ".py",
   "mimetype": "text/x-python",
   "name": "python",
   "nbconvert_exporter": "python",
   "pygments_lexer": "ipython3",
   "version": "3.9.20"
  }
 },
 "nbformat": 4,
 "nbformat_minor": 2
}
