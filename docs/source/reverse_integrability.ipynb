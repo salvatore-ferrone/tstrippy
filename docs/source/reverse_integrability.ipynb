{
 "cells": [
  {
   "cell_type": "code",
   "execution_count": 34,
   "metadata": {},
   "outputs": [],
   "source": [
    "import tstrippy\n",
    "from astropy import units as u\n",
    "from astropy import constants as const\n",
    "from astropy import coordinates as coord\n",
    "import numpy as np\n",
    "import matplotlib.pyplot as plt"
   ]
  },
  {
   "cell_type": "code",
   "execution_count": 35,
   "metadata": {},
   "outputs": [],
   "source": [
    "# give each object a color \n",
    "plt.rcParams.update({\n",
    "    \"text.usetex\": True,\n",
    "    \"font.family\": \"serif\",\n",
    "    \"font.serif\": [\"Computer Modern Roman\"],\n",
    "    \"font.size\": 15,\n",
    "})"
   ]
  },
  {
   "cell_type": "code",
   "execution_count": 45,
   "metadata": {},
   "outputs": [],
   "source": [
    "def get_dr_dv_rmean_vmean(backwardOrbit,forwardOrbit):\n",
    "    dx=backwardOrbit[1]-forwardOrbit[1]\n",
    "    dy=backwardOrbit[2]-forwardOrbit[2]\n",
    "    dz=backwardOrbit[3]-forwardOrbit[3]\n",
    "    dr=np.sqrt(dx**2+dy**2+dz**2)\n",
    "    dvx=backwardOrbit[4]-forwardOrbit[4]\n",
    "    dvy=backwardOrbit[5]-forwardOrbit[5]\n",
    "    dvz=backwardOrbit[6]-forwardOrbit[6]\n",
    "    dv=np.sqrt(dvx**2+dvy**2+dvz**2)\n",
    "    xmean=(backwardOrbit[1]+forwardOrbit[1])/2\n",
    "    ymean=(backwardOrbit[2]+forwardOrbit[2])/2\n",
    "    zmean=(backwardOrbit[3]+forwardOrbit[3])/2\n",
    "    vxmean=(backwardOrbit[4]+forwardOrbit[4])/2\n",
    "    vymean=(backwardOrbit[5]+forwardOrbit[5])/2\n",
    "    vzmean=(backwardOrbit[6]+forwardOrbit[6])/2\n",
    "    rmean=np.sqrt(xmean**2+ymean**2+zmean**2)\n",
    "    vmean=np.sqrt(vxmean**2+vymean**2+vzmean**2)\n",
    "    return dr,dv,rmean,vmean\n",
    "\n",
    "def dynamical_time_sorter(x,y,z,vx,vy,vz):\n",
    "    # get an estimate of all dynamical times of the cluster\n",
    "    r0=np.sqrt(x**2+y**2+z**2)\n",
    "    v0=np.sqrt(vx**2+vy**2+vz**2)\n",
    "    Tdyn=r0/v0\n",
    "    # sort the clusters by dynamical time\n",
    "    idx=np.argsort(Tdyn)\n",
    "    return idx"
   ]
  },
  {
   "cell_type": "code",
   "execution_count": 46,
   "metadata": {},
   "outputs": [],
   "source": [
    "def loadunits():\n",
    "    # Load the units\n",
    "    unitbasis = tstrippy.Parsers.potential_parameters.unitbasis\n",
    "    unitT=u.Unit(unitbasis['time'])\n",
    "    unitV=u.Unit(unitbasis['velocity'])\n",
    "    unitD=u.Unit(unitbasis['distance'])\n",
    "    unitM=u.Unit(unitbasis['mass'])\n",
    "    unitG=u.Unit(unitbasis['G'])\n",
    "    G = const.G.to(unitG).value\n",
    "    return unitT, unitV, unitD, unitM, unitG, G"
   ]
  },
  {
   "cell_type": "code",
   "execution_count": 47,
   "metadata": {},
   "outputs": [],
   "source": [
    "def load_globular_clusters_in_galactic_coordinates(MWrefframe):\n",
    "    unitT, unitV, unitD, unitM, unitG, G = loadunits()\n",
    "    GCdata  =   tstrippy.Parsers.baumgardtMWGCs().data\n",
    "    skycoordinates=coord.SkyCoord(\n",
    "        ra=GCdata['RA'],\n",
    "        dec=GCdata['DEC'],\n",
    "        distance=GCdata['Rsun'],\n",
    "        pm_ra_cosdec=GCdata['mualpha'],\n",
    "        pm_dec=GCdata['mu_delta'],\n",
    "        radial_velocity=GCdata['RV'],)\n",
    "    galacticcoordinates = skycoordinates.transform_to(MWrefframe)\n",
    "    x,y,z=galacticcoordinates.cartesian.xyz.to(unitD).value\n",
    "    vx,vy,vz=galacticcoordinates.velocity.d_xyz.to(unitV).value\n",
    "    return x,y,z,vx,vy,vz"
   ]
  },
  {
   "cell_type": "code",
   "execution_count": 48,
   "metadata": {},
   "outputs": [],
   "source": [
    "def vanilla_clusters(integrationtime,timestep,staticgalaxy,initialkinematics):\n",
    "    \"\"\"\n",
    "    do the backward and forward integration of the vanilla clusters\n",
    "    \"\"\"\n",
    "    assert isinstance(integrationtime,u.Quantity)\n",
    "    assert isinstance(timestep,u.Quantity)\n",
    "    unitT, unitV, unitD, unitM, unitG, G = loadunits()\n",
    "    Ntimestep=int(integrationtime.value/timestep.value)\n",
    "    dt=timestep.to(unitT)\n",
    "    currenttime=0*unitT\n",
    "    integrationparameters=[currenttime.value,dt.value,Ntimestep]\n",
    "    nObj = initialkinematics[0].shape[0]\n",
    "\n",
    "    tstrippy.integrator.setstaticgalaxy(*staticgalaxy)\n",
    "    tstrippy.integrator.setinitialkinematics(*initialkinematics)\n",
    "    tstrippy.integrator.setintegrationparameters(*integrationparameters)\n",
    "    tstrippy.integrator.setbackwardorbit()\n",
    "    xBackward,yBackward,zBackward,vxBackward,vyBackward,vzBackward=\\\n",
    "        tstrippy.integrator.leapfrogintime(Ntimestep,nObj)\n",
    "    tBackward=tstrippy.integrator.timestamps.copy()\n",
    "    tstrippy.integrator.deallocate()\n",
    "\n",
    "    #### Now compute the orbit forward\n",
    "    currenttime=tBackward[-1]*unitT\n",
    "\n",
    "    integrationparameters=[currenttime.value,dt.value,Ntimestep]\n",
    "    x0,y0,z0=xBackward[:,-1],yBackward[:,-1],zBackward[:,-1]\n",
    "    vx0,vy0,vz0 = -vxBackward[:,-1],-vyBackward[:,-1],-vzBackward[:,-1]\n",
    "    initialkinematics=[x0,y0,z0,vx0,vy0,vz0]\n",
    "    tstrippy.integrator.setstaticgalaxy(*staticgalaxy)\n",
    "    tstrippy.integrator.setintegrationparameters(*integrationparameters)\n",
    "    tstrippy.integrator.setinitialkinematics(*initialkinematics)\n",
    "    xForward,yForward,zForward,vxForward,vyForward,vzForward=\\\n",
    "        tstrippy.integrator.leapfrogintime(Ntimestep,nObj)\n",
    "    tForward=tstrippy.integrator.timestamps.copy()\n",
    "    tstrippy.integrator.deallocate()\n",
    "\n",
    "    # flip the backorbits such that the point in the past, \n",
    "    # which should be the common starting point, \n",
    "    # is the first point for both the forward and backward orbits\n",
    "    tBackward=tBackward[::-1]\n",
    "    xBackward,yBackward,zBackward=xBackward[:,::-1],yBackward[:,::-1],zBackward[:,::-1]\n",
    "    vxBackward,vyBackward,vzBackward=-vxBackward[:,::-1],-vyBackward[:,::-1],-vzBackward[:,::-1]\n",
    "    backwardOrbit  = [tBackward,xBackward,yBackward,zBackward,vxBackward,vyBackward,vzBackward]\n",
    "    forwardOrbit   = [tForward,xForward,yForward,zForward,vxForward,vyForward,vzForward]\n",
    "    return backwardOrbit,forwardOrbit"
   ]
  },
  {
   "cell_type": "code",
   "execution_count": 49,
   "metadata": {},
   "outputs": [],
   "source": [
    "MWparams        = tstrippy.Parsers.potential_parameters.pouliasis2017pii()\n",
    "MWrefframe      = tstrippy.Parsers.potential_parameters.MWreferenceframe()  \n",
    "x,y,z,vx,vy,vz  = load_globular_clusters_in_galactic_coordinates(MWrefframe)\n",
    "staticgalaxy    = [\"pouliasis2017pii\", MWparams]\n",
    "integrationtime =   5e9 * u.yr\n",
    "timestep        =   1e5 * u.yr\n",
    "initialkinematics=[x,y,z,vx,vy,vz]\n",
    "backwardOrbit,forwardOrbit=\\\n",
    "    vanilla_clusters(integrationtime,timestep,staticgalaxy,initialkinematics)\n"
   ]
  },
  {
   "cell_type": "code",
   "execution_count": 51,
   "metadata": {},
   "outputs": [],
   "source": [
    "dr,dv,rmean,vmean = get_dr_dv_rmean_vmean(backwardOrbit,forwardOrbit)\n",
    "idx = dynamical_time_sorter(x,y,z,vx,vy,vz)\n",
    "dr,dv,rmean,vmean = dr[idx],dv[idx],rmean[idx],vmean[idx]"
   ]
  },
  {
   "cell_type": "code",
   "execution_count": 41,
   "metadata": {},
   "outputs": [],
   "source": [
    "from matplotlib.colors import LogNorm\n",
    "# get a unique color for each cluster based on the dynamical time\n",
    "cmap = plt.get_cmap('rainbow')\n",
    "colors = cmap(np.linspace(0, 1, len(Tdyn)))"
   ]
  },
  {
   "cell_type": "code",
   "execution_count": 56,
   "metadata": {},
   "outputs": [],
   "source": [
    "tBack = backwardOrbit[0]"
   ]
  },
  {
   "cell_type": "code",
   "execution_count": 55,
   "metadata": {},
   "outputs": [
    {
     "data": {
      "text/plain": [
       "165"
      ]
     },
     "execution_count": 55,
     "metadata": {},
     "output_type": "execute_result"
    }
   ],
   "source": [
    "nGC = len(x)"
   ]
  },
  {
   "cell_type": "code",
   "execution_count": 53,
   "metadata": {},
   "outputs": [],
   "source": [
    "rlabel = r\"$\\frac{|d\\vec{r}|}{\\langle r \\rangle}$\""
   ]
  },
  {
   "cell_type": "code",
   "execution_count": null,
   "metadata": {},
   "outputs": [
    {
     "ename": "TypeError",
     "evalue": "object of type 'int' has no len()",
     "output_type": "error",
     "traceback": [
      "\u001b[0;31m---------------------------------------------------------------------------\u001b[0m",
      "\u001b[0;31mTypeError\u001b[0m                                 Traceback (most recent call last)",
      "Cell \u001b[0;32mIn[57], line 5\u001b[0m\n\u001b[1;32m      3\u001b[0m axis[\u001b[38;5;241m1\u001b[39m]\u001b[38;5;241m.\u001b[39mset_ylabel(\u001b[38;5;124m'\u001b[39m\u001b[38;5;124mdv [km/s]\u001b[39m\u001b[38;5;124m'\u001b[39m)\n\u001b[1;32m      4\u001b[0m axis[\u001b[38;5;241m1\u001b[39m]\u001b[38;5;241m.\u001b[39mset_xlabel(\u001b[38;5;124m'\u001b[39m\u001b[38;5;124mIntegration time [s kpc/ km]\u001b[39m\u001b[38;5;124m'\u001b[39m)\n\u001b[0;32m----> 5\u001b[0m \u001b[38;5;28;01mfor\u001b[39;00m i \u001b[38;5;129;01min\u001b[39;00m \u001b[38;5;28mrange\u001b[39m(\u001b[38;5;28;43mlen\u001b[39;49m\u001b[43m(\u001b[49m\u001b[43mnGC\u001b[49m\u001b[43m)\u001b[49m):\n\u001b[1;32m      6\u001b[0m     axis[\u001b[38;5;241m0\u001b[39m]\u001b[38;5;241m.\u001b[39mplot(tBack,dr[i],color\u001b[38;5;241m=\u001b[39mcolors[i],alpha\u001b[38;5;241m=\u001b[39m\u001b[38;5;241m0.5\u001b[39m)\n\u001b[1;32m      7\u001b[0m     axis[\u001b[38;5;241m1\u001b[39m]\u001b[38;5;241m.\u001b[39mplot(tBack,dv[i],color\u001b[38;5;241m=\u001b[39mcolors[i],alpha\u001b[38;5;241m=\u001b[39m\u001b[38;5;241m0.5\u001b[39m)\n",
      "\u001b[0;31mTypeError\u001b[0m: object of type 'int' has no len()"
     ]
    }
   ],
   "source": [
    "fig,axis=plt.subplots(2,1,figsize=(12,8),sharex=True)\n",
    "axis[0].set_ylabel(rlabel)\n",
    "axis[1].set_ylabel('dv [km/s]')\n",
    "axis[1].set_xlabel('Integration time [s kpc/ km]')\n",
    "for i in range(nGC):\n",
    "    axis[0].plot(tBack,dr[i],color=colors[i],alpha=0.5)\n",
    "    axis[1].plot(tBack,dv[i],color=colors[i],alpha=0.5)\n",
    "for ax in axis:\n",
    "    ax.set_yscale('log')"
   ]
  }
 ],
 "metadata": {
  "kernelspec": {
   "display_name": "tstrippy",
   "language": "python",
   "name": "python3"
  },
  "language_info": {
   "codemirror_mode": {
    "name": "ipython",
    "version": 3
   },
   "file_extension": ".py",
   "mimetype": "text/x-python",
   "name": "python",
   "nbconvert_exporter": "python",
   "pygments_lexer": "ipython3",
   "version": "3.9.20"
  }
 },
 "nbformat": 4,
 "nbformat_minor": 2
}
