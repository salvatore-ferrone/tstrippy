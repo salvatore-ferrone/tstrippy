{
 "cells": [
  {
   "cell_type": "code",
   "execution_count": 25,
   "metadata": {},
   "outputs": [],
   "source": [
    "import tstrippy\n",
    "import h5py"
   ]
  },
  {
   "cell_type": "code",
   "execution_count": 14,
   "metadata": {},
   "outputs": [
    {
     "data": {
      "text/plain": [
       "'/scratch2/sferrone/simulations/MonteCarloObservables/Pal5-observables.hdf5'"
      ]
     },
     "execution_count": 14,
     "metadata": {},
     "output_type": "execute_result"
    }
   ],
   "source": [
    "path_to_init_conds = \"/scratch2/sferrone/simulations/MonteCarloObservables/Pal5-observables.hdf5\"\n",
    "path_to_init_conds"
   ]
  },
  {
   "cell_type": "code",
   "execution_count": 18,
   "metadata": {},
   "outputs": [
    {
     "data": {
      "text/plain": [
       "<KeysViewHDF5 ['monte-carlo-000', 'monte-carlo-001', 'monte-carlo-002', 'monte-carlo-003', 'monte-carlo-004', 'monte-carlo-005', 'monte-carlo-006', 'monte-carlo-007', 'monte-carlo-008', 'monte-carlo-009', 'monte-carlo-010', 'monte-carlo-011', 'monte-carlo-012', 'monte-carlo-013', 'monte-carlo-014', 'monte-carlo-015', 'monte-carlo-016', 'monte-carlo-017', 'monte-carlo-018', 'monte-carlo-019', 'monte-carlo-020', 'monte-carlo-021', 'monte-carlo-022', 'monte-carlo-023', 'monte-carlo-024', 'monte-carlo-025', 'monte-carlo-026', 'monte-carlo-027', 'monte-carlo-028', 'monte-carlo-029', 'monte-carlo-030', 'monte-carlo-031', 'monte-carlo-032', 'monte-carlo-033', 'monte-carlo-034', 'monte-carlo-035', 'monte-carlo-036', 'monte-carlo-037', 'monte-carlo-038', 'monte-carlo-039', 'monte-carlo-040', 'monte-carlo-041', 'monte-carlo-042', 'monte-carlo-043', 'monte-carlo-044', 'monte-carlo-045', 'monte-carlo-046', 'monte-carlo-047', 'monte-carlo-048', 'monte-carlo-049']>"
      ]
     },
     "execution_count": 18,
     "metadata": {},
     "output_type": "execute_result"
    }
   ],
   "source": [
    "myinit_conds=h5py.File(path_to_init_conds, 'r')"
   ]
  },
  {
   "cell_type": "code",
   "execution_count": 24,
   "metadata": {},
   "outputs": [
    {
     "data": {
      "text/plain": [
       "-0.121"
      ]
     },
     "execution_count": 24,
     "metadata": {},
     "output_type": "execute_result"
    }
   ],
   "source": [
    "myinit_conds['monte-carlo-000']['DEC'][0]"
   ]
  }
 ],
 "metadata": {
  "kernelspec": {
   "display_name": "tstrippy",
   "language": "python",
   "name": "python3"
  },
  "language_info": {
   "codemirror_mode": {
    "name": "ipython",
    "version": 3
   },
   "file_extension": ".py",
   "mimetype": "text/x-python",
   "name": "python",
   "nbconvert_exporter": "python",
   "pygments_lexer": "ipython3",
   "version": "3.11.2"
  }
 },
 "nbformat": 4,
 "nbformat_minor": 2
}
