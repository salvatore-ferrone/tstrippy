{
 "cells": [
  {
   "cell_type": "code",
   "execution_count": 1,
   "metadata": {},
   "outputs": [],
   "source": [
    "import yaml \n",
    "import astropy.constants as const"
   ]
  },
  {
   "cell_type": "code",
   "execution_count": 27,
   "metadata": {},
   "outputs": [],
   "source": [
    "from pathlib import Path\n"
   ]
  },
  {
   "cell_type": "code",
   "execution_count": 34,
   "metadata": {},
   "outputs": [],
   "source": [
    "path_to_file=Path(\"../tstrippy/data/unit_basis.yaml\")\n",
    "with open(path_to_file, 'r') as basis:\n",
    "    try:\n",
    "        unitbasis = yaml.safe_load(basis)\n",
    "    except yaml.YAMLError as exc:\n",
    "        print(exc)\n",
    "G=const.G.to(unitbasis['G']).value"
   ]
  },
  {
   "cell_type": "code",
   "execution_count": 33,
   "metadata": {},
   "outputs": [],
   "source": [
    "\n",
    "data_file_path = Path('../tstrippy/data/pouliasis2017pii.yaml')\n",
    "with open(data_file_path, 'r') as file:\n",
    "    try:\n",
    "        data = yaml.safe_load(file)\n",
    "    except yaml.YAMLError as exc:\n",
    "        print(exc)"
   ]
  },
  {
   "cell_type": "code",
   "execution_count": 29,
   "metadata": {},
   "outputs": [],
   "source": [
    "myparams= []\n",
    "myparams.append(G)\n",
    "myparams.append(data['components'][0][\"parameters\"]['M'])\n",
    "myparams.append(data['components'][0][\"parameters\"]['a'])\n",
    "myparams.append(data['components'][0][\"parameters\"]['exp'])\n",
    "myparams.append(data['components'][0][\"parameters\"]['cutoffradius'])\n",
    "myparams.append(data['components'][1][\"parameters\"]['M'])\n",
    "myparams.append(data['components'][1][\"parameters\"]['a'])\n",
    "myparams.append(data['components'][1][\"parameters\"]['b'])\n",
    "myparams.append(data['components'][2][\"parameters\"]['M'])\n",
    "myparams.append(data['components'][2][\"parameters\"]['a'])\n",
    "myparams.append(data['components'][2][\"parameters\"]['b'])\n"
   ]
  },
  {
   "cell_type": "code",
   "execution_count": null,
   "metadata": {},
   "outputs": [],
   "source": []
  },
  {
   "cell_type": "code",
   "execution_count": null,
   "metadata": {},
   "outputs": [],
   "source": []
  }
 ],
 "metadata": {
  "kernelspec": {
   "display_name": "tstrippy",
   "language": "python",
   "name": "python3"
  },
  "language_info": {
   "codemirror_mode": {
    "name": "ipython",
    "version": 3
   },
   "file_extension": ".py",
   "mimetype": "text/x-python",
   "name": "python",
   "nbconvert_exporter": "python",
   "pygments_lexer": "ipython3",
   "version": "3.11.2"
  }
 },
 "nbformat": 4,
 "nbformat_minor": 2
}
